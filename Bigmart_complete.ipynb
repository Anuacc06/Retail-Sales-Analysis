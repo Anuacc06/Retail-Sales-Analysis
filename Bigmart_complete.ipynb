{
  "cells": [
    {
      "cell_type": "code",
      "execution_count": null,
      "id": "d8dcde85",
      "metadata": {
        "id": "d8dcde85",
        "outputId": "b7f0b1d8-a1e2-4651-c18b-ce4aa80eb068"
      },
      "outputs": [
        {
          "data": {
            "text/plain": [
              "'C:\\\\Users\\\\ADMIN'"
            ]
          },
          "execution_count": 1,
          "metadata": {},
          "output_type": "execute_result"
        }
      ],
      "source": [
        "import os\n",
        "import pandas as pd\n",
        "import numpy as np\n",
        "from matplotlib import pyplot as plt\n",
        "os.getcwd()"
      ]
    },
    {
      "cell_type": "markdown",
      "id": "d78a498c",
      "metadata": {
        "id": "d78a498c"
      },
      "source": [
        "### DATA IMPORT"
      ]
    },
    {
      "cell_type": "code",
      "execution_count": null,
      "id": "239c0d9c",
      "metadata": {
        "id": "239c0d9c",
        "outputId": "d958e092-1b39-469a-e560-65d81dd7dde6"
      },
      "outputs": [
        {
          "data": {
            "text/html": [
              "<div>\n",
              "<style scoped>\n",
              "    .dataframe tbody tr th:only-of-type {\n",
              "        vertical-align: middle;\n",
              "    }\n",
              "\n",
              "    .dataframe tbody tr th {\n",
              "        vertical-align: top;\n",
              "    }\n",
              "\n",
              "    .dataframe thead th {\n",
              "        text-align: right;\n",
              "    }\n",
              "</style>\n",
              "<table border=\"1\" class=\"dataframe\">\n",
              "  <thead>\n",
              "    <tr style=\"text-align: right;\">\n",
              "      <th></th>\n",
              "      <th>Item_Identifier</th>\n",
              "      <th>Item_Weight</th>\n",
              "      <th>Item_Fat_Content</th>\n",
              "      <th>Item_Visibility</th>\n",
              "      <th>Item_Type</th>\n",
              "      <th>Item_MRP</th>\n",
              "      <th>Outlet_Identifier</th>\n",
              "      <th>Outlet_Establishment_Year</th>\n",
              "      <th>Outlet_Size</th>\n",
              "      <th>Outlet_Location_Type</th>\n",
              "      <th>Outlet_Type</th>\n",
              "      <th>Item_Outlet_Sales</th>\n",
              "    </tr>\n",
              "  </thead>\n",
              "  <tbody>\n",
              "    <tr>\n",
              "      <th>0</th>\n",
              "      <td>FDA15</td>\n",
              "      <td>9.30</td>\n",
              "      <td>Low Fat</td>\n",
              "      <td>0.016047</td>\n",
              "      <td>Dairy</td>\n",
              "      <td>249.8092</td>\n",
              "      <td>OUT049</td>\n",
              "      <td>1999</td>\n",
              "      <td>Medium</td>\n",
              "      <td>Tier 1</td>\n",
              "      <td>Supermarket Type1</td>\n",
              "      <td>3735.1380</td>\n",
              "    </tr>\n",
              "    <tr>\n",
              "      <th>1</th>\n",
              "      <td>DRC01</td>\n",
              "      <td>5.92</td>\n",
              "      <td>Regular</td>\n",
              "      <td>0.019278</td>\n",
              "      <td>Soft Drinks</td>\n",
              "      <td>48.2692</td>\n",
              "      <td>OUT018</td>\n",
              "      <td>2009</td>\n",
              "      <td>Medium</td>\n",
              "      <td>Tier 3</td>\n",
              "      <td>Supermarket Type2</td>\n",
              "      <td>443.4228</td>\n",
              "    </tr>\n",
              "    <tr>\n",
              "      <th>2</th>\n",
              "      <td>FDN15</td>\n",
              "      <td>17.50</td>\n",
              "      <td>Low Fat</td>\n",
              "      <td>0.016760</td>\n",
              "      <td>Meat</td>\n",
              "      <td>141.6180</td>\n",
              "      <td>OUT049</td>\n",
              "      <td>1999</td>\n",
              "      <td>Medium</td>\n",
              "      <td>Tier 1</td>\n",
              "      <td>Supermarket Type1</td>\n",
              "      <td>2097.2700</td>\n",
              "    </tr>\n",
              "    <tr>\n",
              "      <th>3</th>\n",
              "      <td>FDX07</td>\n",
              "      <td>19.20</td>\n",
              "      <td>Regular</td>\n",
              "      <td>0.000000</td>\n",
              "      <td>Fruits and Vegetables</td>\n",
              "      <td>182.0950</td>\n",
              "      <td>OUT010</td>\n",
              "      <td>1998</td>\n",
              "      <td>NaN</td>\n",
              "      <td>Tier 3</td>\n",
              "      <td>Grocery Store</td>\n",
              "      <td>732.3800</td>\n",
              "    </tr>\n",
              "    <tr>\n",
              "      <th>4</th>\n",
              "      <td>NCD19</td>\n",
              "      <td>8.93</td>\n",
              "      <td>Low Fat</td>\n",
              "      <td>0.000000</td>\n",
              "      <td>Household</td>\n",
              "      <td>53.8614</td>\n",
              "      <td>OUT013</td>\n",
              "      <td>1987</td>\n",
              "      <td>High</td>\n",
              "      <td>Tier 3</td>\n",
              "      <td>Supermarket Type1</td>\n",
              "      <td>994.7052</td>\n",
              "    </tr>\n",
              "  </tbody>\n",
              "</table>\n",
              "</div>"
            ],
            "text/plain": [
              "  Item_Identifier  Item_Weight Item_Fat_Content  Item_Visibility  \\\n",
              "0           FDA15         9.30          Low Fat         0.016047   \n",
              "1           DRC01         5.92          Regular         0.019278   \n",
              "2           FDN15        17.50          Low Fat         0.016760   \n",
              "3           FDX07        19.20          Regular         0.000000   \n",
              "4           NCD19         8.93          Low Fat         0.000000   \n",
              "\n",
              "               Item_Type  Item_MRP Outlet_Identifier  \\\n",
              "0                  Dairy  249.8092            OUT049   \n",
              "1            Soft Drinks   48.2692            OUT018   \n",
              "2                   Meat  141.6180            OUT049   \n",
              "3  Fruits and Vegetables  182.0950            OUT010   \n",
              "4              Household   53.8614            OUT013   \n",
              "\n",
              "   Outlet_Establishment_Year Outlet_Size Outlet_Location_Type  \\\n",
              "0                       1999      Medium               Tier 1   \n",
              "1                       2009      Medium               Tier 3   \n",
              "2                       1999      Medium               Tier 1   \n",
              "3                       1998         NaN               Tier 3   \n",
              "4                       1987        High               Tier 3   \n",
              "\n",
              "         Outlet_Type  Item_Outlet_Sales  \n",
              "0  Supermarket Type1          3735.1380  \n",
              "1  Supermarket Type2           443.4228  \n",
              "2  Supermarket Type1          2097.2700  \n",
              "3      Grocery Store           732.3800  \n",
              "4  Supermarket Type1           994.7052  "
            ]
          },
          "execution_count": 2,
          "metadata": {},
          "output_type": "execute_result"
        }
      ],
      "source": [
        "bigmart=pd.read_csv(r\"C:\\Users\\ADMIN\\train_bigmart.csv\")\n",
        "bigmart.head()"
      ]
    },
    {
      "cell_type": "markdown",
      "id": "fd2333b8",
      "metadata": {
        "id": "fd2333b8"
      },
      "source": [
        "## DATA DESCRIPTION"
      ]
    },
    {
      "cell_type": "markdown",
      "id": "02257df6",
      "metadata": {
        "id": "02257df6"
      },
      "source": [
        "Data source:Kaggel\n"
      ]
    },
    {
      "cell_type": "markdown",
      "id": "6199dc31",
      "metadata": {
        "id": "6199dc31"
      },
      "source": [
        "Overview: This Data consist of differet Item(product) sale in various outlet of bigmart superstore. its a merge data set contain outlet describe and product describe columns.columns information is given below,\n",
        "product number and outlet number combine gives us primary key for this dataset.\n"
      ]
    },
    {
      "cell_type": "markdown",
      "id": "d7a27d7c",
      "metadata": {
        "id": "d7a27d7c"
      },
      "source": [
        "- Item_Identifier: Unique identifier for Item sold\n",
        "- Item_Weight: Weight of Item sold\n",
        "- Item_Fat_Content: Fat contain information of item sold\n",
        "- Item_Visibility: The percentage of total display area that the product occupies in the store\n",
        "- Item_Type: Type of item\n",
        "- Item_MRP: Price of Item\n",
        "- Outlet_Identifier: Unique identifier for outlet in which underlying item sold\n",
        "- Outlet_Establishment_Year: Establishment yar of outlier\n",
        "- Outlet_Size: size of outlet\n",
        "- Outlet_Location_Type: The location type of the store.\n",
        "- Outlet_Type: The Type of outlet\n",
        "- Item_Outlet_Sales: Total sale for underlying item in underlying outlet\n",
        "\n"
      ]
    },
    {
      "cell_type": "code",
      "execution_count": null,
      "id": "12a2a803",
      "metadata": {
        "id": "12a2a803",
        "outputId": "fa50887a-da22-4949-e357-3cf692e9da80"
      },
      "outputs": [
        {
          "name": "stdout",
          "output_type": "stream",
          "text": [
            "<class 'pandas.core.frame.DataFrame'>\n",
            "RangeIndex: 8523 entries, 0 to 8522\n",
            "Data columns (total 12 columns):\n",
            " #   Column                     Non-Null Count  Dtype  \n",
            "---  ------                     --------------  -----  \n",
            " 0   Item_Identifier            8523 non-null   object \n",
            " 1   Item_Weight                7060 non-null   float64\n",
            " 2   Item_Fat_Content           8523 non-null   object \n",
            " 3   Item_Visibility            8523 non-null   float64\n",
            " 4   Item_Type                  8523 non-null   object \n",
            " 5   Item_MRP                   8523 non-null   float64\n",
            " 6   Outlet_Identifier          8523 non-null   object \n",
            " 7   Outlet_Establishment_Year  8523 non-null   int64  \n",
            " 8   Outlet_Size                6113 non-null   object \n",
            " 9   Outlet_Location_Type       8523 non-null   object \n",
            " 10  Outlet_Type                8523 non-null   object \n",
            " 11  Item_Outlet_Sales          8523 non-null   float64\n",
            "dtypes: float64(4), int64(1), object(7)\n",
            "memory usage: 799.2+ KB\n"
          ]
        }
      ],
      "source": [
        "bigmart.info()"
      ]
    },
    {
      "cell_type": "markdown",
      "id": "cf27a42b",
      "metadata": {
        "id": "cf27a42b"
      },
      "source": [
        "## MISSING VALUE TREATMENT"
      ]
    },
    {
      "cell_type": "code",
      "execution_count": null,
      "id": "c2363fac",
      "metadata": {
        "id": "c2363fac",
        "outputId": "dee6a5eb-2567-457f-f57a-734a830b15d2"
      },
      "outputs": [
        {
          "data": {
            "text/plain": [
              "Item_Identifier                 0\n",
              "Item_Weight                  1463\n",
              "Item_Fat_Content                0\n",
              "Item_Visibility                 0\n",
              "Item_Type                       0\n",
              "Item_MRP                        0\n",
              "Outlet_Identifier               0\n",
              "Outlet_Establishment_Year       0\n",
              "Outlet_Size                  2410\n",
              "Outlet_Location_Type            0\n",
              "Outlet_Type                     0\n",
              "Item_Outlet_Sales               0\n",
              "dtype: int64"
            ]
          },
          "execution_count": 4,
          "metadata": {},
          "output_type": "execute_result"
        }
      ],
      "source": [
        "bigmart.isnull().sum()"
      ]
    },
    {
      "cell_type": "markdown",
      "id": "9e1e632e",
      "metadata": {
        "id": "9e1e632e"
      },
      "source": [
        "As we can see above columns, there are null values present in item_Weight and Outlet_size, we have to either drop them or impute them before proceed further                 "
      ]
    },
    {
      "cell_type": "code",
      "execution_count": null,
      "id": "1df78d78",
      "metadata": {
        "id": "1df78d78",
        "outputId": "a3d84ce6-b0ca-45c4-81da-836436bd7455"
      },
      "outputs": [
        {
          "name": "stdout",
          "output_type": "stream",
          "text": [
            "Outlet number for which outlet size is not defined are  ['OUT010', 'OUT045', 'OUT017']\n"
          ]
        }
      ],
      "source": [
        "Outlet_size_null=list(bigmart[bigmart[\"Outlet_Size\"].isnull()][\"Outlet_Identifier\"].unique())\n",
        "print(\"Outlet number for which outlet size is not defined are \",Outlet_size_null)"
      ]
    },
    {
      "cell_type": "code",
      "execution_count": null,
      "id": "5a57fd4a",
      "metadata": {
        "scrolled": true,
        "id": "5a57fd4a",
        "outputId": "64c2950a-172e-46b1-e584-ce674fd201b9"
      },
      "outputs": [
        {
          "data": {
            "text/html": [
              "<div>\n",
              "<style scoped>\n",
              "    .dataframe tbody tr th:only-of-type {\n",
              "        vertical-align: middle;\n",
              "    }\n",
              "\n",
              "    .dataframe tbody tr th {\n",
              "        vertical-align: top;\n",
              "    }\n",
              "\n",
              "    .dataframe thead th {\n",
              "        text-align: right;\n",
              "    }\n",
              "</style>\n",
              "<table border=\"1\" class=\"dataframe\">\n",
              "  <thead>\n",
              "    <tr style=\"text-align: right;\">\n",
              "      <th></th>\n",
              "      <th>Outlet_Identifier</th>\n",
              "      <th>Outlet_Type</th>\n",
              "      <th>Outlet_Location_Type</th>\n",
              "      <th>Outlet_Size</th>\n",
              "    </tr>\n",
              "  </thead>\n",
              "  <tbody>\n",
              "    <tr>\n",
              "      <th>0</th>\n",
              "      <td>OUT049</td>\n",
              "      <td>Supermarket Type1</td>\n",
              "      <td>Tier 1</td>\n",
              "      <td>Medium</td>\n",
              "    </tr>\n",
              "    <tr>\n",
              "      <th>1</th>\n",
              "      <td>OUT018</td>\n",
              "      <td>Supermarket Type2</td>\n",
              "      <td>Tier 3</td>\n",
              "      <td>Medium</td>\n",
              "    </tr>\n",
              "    <tr>\n",
              "      <th>3</th>\n",
              "      <td>OUT010</td>\n",
              "      <td>Grocery Store</td>\n",
              "      <td>Tier 3</td>\n",
              "      <td>NaN</td>\n",
              "    </tr>\n",
              "    <tr>\n",
              "      <th>4</th>\n",
              "      <td>OUT013</td>\n",
              "      <td>Supermarket Type1</td>\n",
              "      <td>Tier 3</td>\n",
              "      <td>High</td>\n",
              "    </tr>\n",
              "    <tr>\n",
              "      <th>7</th>\n",
              "      <td>OUT027</td>\n",
              "      <td>Supermarket Type3</td>\n",
              "      <td>Tier 3</td>\n",
              "      <td>Medium</td>\n",
              "    </tr>\n",
              "    <tr>\n",
              "      <th>8</th>\n",
              "      <td>OUT045</td>\n",
              "      <td>Supermarket Type1</td>\n",
              "      <td>Tier 2</td>\n",
              "      <td>NaN</td>\n",
              "    </tr>\n",
              "    <tr>\n",
              "      <th>9</th>\n",
              "      <td>OUT017</td>\n",
              "      <td>Supermarket Type1</td>\n",
              "      <td>Tier 2</td>\n",
              "      <td>NaN</td>\n",
              "    </tr>\n",
              "    <tr>\n",
              "      <th>11</th>\n",
              "      <td>OUT046</td>\n",
              "      <td>Supermarket Type1</td>\n",
              "      <td>Tier 1</td>\n",
              "      <td>Small</td>\n",
              "    </tr>\n",
              "    <tr>\n",
              "      <th>19</th>\n",
              "      <td>OUT035</td>\n",
              "      <td>Supermarket Type1</td>\n",
              "      <td>Tier 2</td>\n",
              "      <td>Small</td>\n",
              "    </tr>\n",
              "    <tr>\n",
              "      <th>23</th>\n",
              "      <td>OUT019</td>\n",
              "      <td>Grocery Store</td>\n",
              "      <td>Tier 1</td>\n",
              "      <td>Small</td>\n",
              "    </tr>\n",
              "  </tbody>\n",
              "</table>\n",
              "</div>"
            ],
            "text/plain": [
              "   Outlet_Identifier        Outlet_Type Outlet_Location_Type Outlet_Size\n",
              "0             OUT049  Supermarket Type1               Tier 1      Medium\n",
              "1             OUT018  Supermarket Type2               Tier 3      Medium\n",
              "3             OUT010      Grocery Store               Tier 3         NaN\n",
              "4             OUT013  Supermarket Type1               Tier 3        High\n",
              "7             OUT027  Supermarket Type3               Tier 3      Medium\n",
              "8             OUT045  Supermarket Type1               Tier 2         NaN\n",
              "9             OUT017  Supermarket Type1               Tier 2         NaN\n",
              "11            OUT046  Supermarket Type1               Tier 1       Small\n",
              "19            OUT035  Supermarket Type1               Tier 2       Small\n",
              "23            OUT019      Grocery Store               Tier 1       Small"
            ]
          },
          "execution_count": 6,
          "metadata": {},
          "output_type": "execute_result"
        }
      ],
      "source": [
        "bigmart[[\"Outlet_Identifier\",\"Outlet_Type\",\"Outlet_Location_Type\",\"Outlet_Size\"]].drop_duplicates()"
      ]
    },
    {
      "cell_type": "markdown",
      "id": "26202979",
      "metadata": {
        "id": "26202979"
      },
      "source": [
        "we can refer this table to impute outlet size, since Grocery Stores are of small size, we can imput size small for OUT010 outlet and same for remaining two outlet as supermarket_type_1 of Tier 2 location are of small size.its a assumption and need to crosscheck always as and when we get more data"
      ]
    },
    {
      "cell_type": "code",
      "execution_count": null,
      "id": "b0772564",
      "metadata": {
        "id": "b0772564"
      },
      "outputs": [],
      "source": [
        "bigmart[\"Outlet_Size\"]=np.where(bigmart[\"Outlet_Identifier\"].isin([\"OUT010\",\"OUT045\",\"OUT017\"]),\"Small\",bigmart[\"Outlet_Size\"])"
      ]
    },
    {
      "cell_type": "code",
      "execution_count": null,
      "id": "83dc9e21",
      "metadata": {
        "id": "83dc9e21",
        "outputId": "e16d6acf-c245-48be-b7e2-58a9fe64c7f0"
      },
      "outputs": [
        {
          "data": {
            "text/html": [
              "<div>\n",
              "<style scoped>\n",
              "    .dataframe tbody tr th:only-of-type {\n",
              "        vertical-align: middle;\n",
              "    }\n",
              "\n",
              "    .dataframe tbody tr th {\n",
              "        vertical-align: top;\n",
              "    }\n",
              "\n",
              "    .dataframe thead th {\n",
              "        text-align: right;\n",
              "    }\n",
              "</style>\n",
              "<table border=\"1\" class=\"dataframe\">\n",
              "  <thead>\n",
              "    <tr style=\"text-align: right;\">\n",
              "      <th></th>\n",
              "      <th>Item_Identifier</th>\n",
              "      <th>Item_Weight</th>\n",
              "    </tr>\n",
              "  </thead>\n",
              "  <tbody>\n",
              "    <tr>\n",
              "      <th>118</th>\n",
              "      <td>DRA12</td>\n",
              "      <td>11.60</td>\n",
              "    </tr>\n",
              "    <tr>\n",
              "      <th>2879</th>\n",
              "      <td>DRA24</td>\n",
              "      <td>NaN</td>\n",
              "    </tr>\n",
              "    <tr>\n",
              "      <th>1148</th>\n",
              "      <td>DRA24</td>\n",
              "      <td>19.35</td>\n",
              "    </tr>\n",
              "    <tr>\n",
              "      <th>6057</th>\n",
              "      <td>DRA59</td>\n",
              "      <td>NaN</td>\n",
              "    </tr>\n",
              "    <tr>\n",
              "      <th>1876</th>\n",
              "      <td>DRA59</td>\n",
              "      <td>8.27</td>\n",
              "    </tr>\n",
              "    <tr>\n",
              "      <th>...</th>\n",
              "      <td>...</td>\n",
              "      <td>...</td>\n",
              "    </tr>\n",
              "    <tr>\n",
              "      <th>411</th>\n",
              "      <td>NCZ42</td>\n",
              "      <td>10.50</td>\n",
              "    </tr>\n",
              "    <tr>\n",
              "      <th>2084</th>\n",
              "      <td>NCZ53</td>\n",
              "      <td>NaN</td>\n",
              "    </tr>\n",
              "    <tr>\n",
              "      <th>1267</th>\n",
              "      <td>NCZ53</td>\n",
              "      <td>9.60</td>\n",
              "    </tr>\n",
              "    <tr>\n",
              "      <th>1896</th>\n",
              "      <td>NCZ54</td>\n",
              "      <td>NaN</td>\n",
              "    </tr>\n",
              "    <tr>\n",
              "      <th>214</th>\n",
              "      <td>NCZ54</td>\n",
              "      <td>14.65</td>\n",
              "    </tr>\n",
              "  </tbody>\n",
              "</table>\n",
              "<p>2697 rows × 2 columns</p>\n",
              "</div>"
            ],
            "text/plain": [
              "     Item_Identifier  Item_Weight\n",
              "118            DRA12        11.60\n",
              "2879           DRA24          NaN\n",
              "1148           DRA24        19.35\n",
              "6057           DRA59          NaN\n",
              "1876           DRA59         8.27\n",
              "...              ...          ...\n",
              "411            NCZ42        10.50\n",
              "2084           NCZ53          NaN\n",
              "1267           NCZ53         9.60\n",
              "1896           NCZ54          NaN\n",
              "214            NCZ54        14.65\n",
              "\n",
              "[2697 rows x 2 columns]"
            ]
          },
          "execution_count": 8,
          "metadata": {},
          "output_type": "execute_result"
        }
      ],
      "source": [
        "bigmart[[\"Item_Identifier\",\"Item_Weight\"]].drop_duplicates().sort_values(by='Item_Identifier')"
      ]
    },
    {
      "cell_type": "markdown",
      "id": "e6443bff",
      "metadata": {
        "id": "e6443bff"
      },
      "source": [
        "We have gained item weight from other transactions occured,we can use weight from previous transaction of same item to impute missing weights, ffill method is useful for this type of imputation, it simply impute value of previous row in next null value"
      ]
    },
    {
      "cell_type": "code",
      "execution_count": null,
      "id": "58e51bfa",
      "metadata": {
        "id": "58e51bfa"
      },
      "outputs": [],
      "source": [
        "bigmart[\"Item_Weight\"]=bigmart.sort_values(by='Item_Identifier')[\"Item_Weight\"].fillna(method=\"ffill\")"
      ]
    },
    {
      "cell_type": "code",
      "execution_count": null,
      "id": "f5a154b1",
      "metadata": {
        "id": "f5a154b1",
        "outputId": "840ba65f-1d05-4d19-e6f1-c42231f49b4a"
      },
      "outputs": [
        {
          "data": {
            "text/plain": [
              "Item_Identifier              0\n",
              "Item_Weight                  0\n",
              "Item_Fat_Content             0\n",
              "Item_Visibility              0\n",
              "Item_Type                    0\n",
              "Item_MRP                     0\n",
              "Outlet_Identifier            0\n",
              "Outlet_Establishment_Year    0\n",
              "Outlet_Size                  0\n",
              "Outlet_Location_Type         0\n",
              "Outlet_Type                  0\n",
              "Item_Outlet_Sales            0\n",
              "dtype: int64"
            ]
          },
          "execution_count": 10,
          "metadata": {},
          "output_type": "execute_result"
        }
      ],
      "source": [
        "bigmart.isnull().sum()"
      ]
    },
    {
      "cell_type": "markdown",
      "id": "a6c5d7a2",
      "metadata": {
        "id": "a6c5d7a2"
      },
      "source": [
        "Missing value treatment is done"
      ]
    },
    {
      "cell_type": "markdown",
      "id": "e1241a89",
      "metadata": {
        "id": "e1241a89"
      },
      "source": [
        "## OUTLIERS TREATMENT"
      ]
    },
    {
      "cell_type": "markdown",
      "id": "9bc7d6ed",
      "metadata": {
        "id": "9bc7d6ed"
      },
      "source": [
        "An outlier is a data point that differs significantly from other observations"
      ]
    },
    {
      "cell_type": "markdown",
      "id": "64dc7867",
      "metadata": {
        "id": "64dc7867"
      },
      "source": [
        "Boxplot is typically used to detect outliers in numeric column of dataset. observation above upper whisker or below lower whisker of boxplot is considered as outlier"
      ]
    },
    {
      "cell_type": "code",
      "execution_count": null,
      "id": "89833c31",
      "metadata": {
        "id": "89833c31",
        "outputId": "1d834ae1-0d04-43bd-8eb5-8425b6c2c96e"
      },
      "outputs": [
        {
          "name": "stderr",
          "output_type": "stream",
          "text": [
            "C:\\Users\\ADMIN\\anaconda3\\lib\\site-packages\\pandas\\core\\arraylike.py:397: RuntimeWarning: divide by zero encountered in log\n",
            "  result = getattr(ufunc, method)(*inputs, **kwargs)\n"
          ]
        },
        {
          "data": {
            "image/png": "[encoded data removed]",
            "text/plain": [
              "<Figure size 640x480 with 4 Axes>"
            ]
          },
          "metadata": {},
          "output_type": "display_data"
        }
      ],
      "source": [
        "bigmart['Item_Visibility']=np.log(bigmart['Item_Visibility'])\n",
        "bigmart['Item_Outlet_Sales']=np.log(bigmart['Item_Outlet_Sales'])\n",
        "\n",
        "\n",
        "plt.subplot(221)\n",
        "boxplot = bigmart.boxplot(column=['Item_Weight'])\n",
        "\n",
        "plt.subplot(222)\n",
        "boxplot = bigmart.boxplot(column=['Item_Visibility'])\n",
        "\n",
        "plt.subplot(223)\n",
        "boxplot = bigmart.boxplot(column=['Item_MRP'])\n",
        "\n",
        "plt.subplot(224)\n",
        "boxplot = bigmart.boxplot(column=['Item_Outlet_Sales'])"
      ]
    },
    {
      "cell_type": "markdown",
      "id": "4cf944ac",
      "metadata": {
        "id": "4cf944ac"
      },
      "source": [
        "Its clealy visible from above boxplots that there are outliers present in Item_Visibility and item_Outlet_Sales,To treat these outliers we will simply replace of these extreme value with upper whisker of boxplot since all outliers are greater than upper limit"
      ]
    },
    {
      "cell_type": "code",
      "execution_count": null,
      "id": "53ab0b23",
      "metadata": {
        "id": "53ab0b23"
      },
      "outputs": [],
      "source": [
        "IQR_Outlet_Sales=bigmart[\"Item_Outlet_Sales\"].quantile(0.75)-bigmart[\"Item_Outlet_Sales\"].quantile(0.25)\n",
        "IQR_Visibility=bigmart[\"Item_Visibility\"].quantile(0.75)-bigmart[\"Item_Visibility\"].quantile(0.25)\n",
        "\n",
        "Upper_limit_Outlet_Sales = bigmart[\"Item_Outlet_Sales\"].quantile(0.75) + (IQR_Outlet_Sales * 1.5)\n",
        "Upper_limit_Visibility = bigmart[\"Item_Visibility\"].quantile(0.75) + (IQR_Visibility * 1.5)\n",
        "\n",
        "Lower_limit_Visibility = bigmart[\"Item_Visibility\"].quantile(0.25) - (IQR_Visibility * 1.5)\n",
        "Lower_limit_Outlet_Sales = bigmart[\"Item_Outlet_Sales\"].quantile(0.75) - (IQR_Outlet_Sales * 1.5)\n",
        "\n",
        "\n",
        "# print(\"Upper limit for item_Outlet_Sales: \",Upper_limit_Outlet_Sales,end=\"\\n\")\n",
        "# print(\"Upper limit for Item_Visibility: \",Upper_limit_Visibility,end=\"\\n\")"
      ]
    },
    {
      "cell_type": "code",
      "execution_count": null,
      "id": "5af16dfe",
      "metadata": {
        "id": "5af16dfe"
      },
      "outputs": [],
      "source": [
        "bigmart[\"Item_Outlet_Sales\"]=np.where(bigmart[\"Item_Outlet_Sales\"]<Lower_limit_Outlet_Sales,Lower_limit_Outlet_Sales,bigmart[\"Item_Outlet_Sales\"])\n",
        "bigmart[\"Item_Visibility\"]=np.where(bigmart[\"Item_Visibility\"]<Lower_limit_Visibility,Lower_limit_Visibility,bigmart[\"Item_Visibility\"])\n",
        "# bigmart[\"Item_Visibility\"]=np.where(bigmart[\"Item_Visibility\"]>Upper_limit_Visibility,Upper_limit_Visibility,bigmart[\"Item_Visibility\"])\n"
      ]
    },
    {
      "cell_type": "code",
      "execution_count": null,
      "id": "4c477c7a",
      "metadata": {
        "scrolled": true,
        "id": "4c477c7a",
        "outputId": "1eb2d85b-798c-424a-ee0a-e7c31690df53"
      },
      "outputs": [
        {
          "data": {
            "image/png": "[encoded data removed]",
            "text/plain": [
              "<Figure size 640x480 with 2 Axes>"
            ]
          },
          "metadata": {},
          "output_type": "display_data"
        }
      ],
      "source": [
        "plt.subplot(121)\n",
        "boxplot = bigmart.boxplot(column=['Item_Visibility'])\n",
        "\n",
        "plt.subplot(122)\n",
        "boxplot = bigmart.boxplot(column=['Item_Outlet_Sales'])"
      ]
    },
    {
      "cell_type": "markdown",
      "id": "ef03a65b",
      "metadata": {
        "id": "ef03a65b"
      },
      "source": [
        "Outliers from these two columns has been replaced by upper limit hence boxplot is not showing any outliers. outliers tretment is done"
      ]
    },
    {
      "cell_type": "markdown",
      "id": "1d83d0bf",
      "metadata": {
        "id": "1d83d0bf"
      },
      "source": [
        "### Extra Data corrections"
      ]
    },
    {
      "cell_type": "code",
      "execution_count": null,
      "id": "db6b2a9c",
      "metadata": {
        "id": "db6b2a9c",
        "outputId": "456745c5-d0fc-48fb-ba30-170a41857ba5"
      },
      "outputs": [
        {
          "data": {
            "text/plain": [
              "Low Fat    5089\n",
              "Regular    2889\n",
              "LF          316\n",
              "reg         117\n",
              "low fat     112\n",
              "Name: Item_Fat_Content, dtype: int64"
            ]
          },
          "execution_count": 15,
          "metadata": {},
          "output_type": "execute_result"
        }
      ],
      "source": [
        "bigmart[\"Item_Fat_Content\"].value_counts()"
      ]
    },
    {
      "cell_type": "markdown",
      "id": "37ce8f75",
      "metadata": {
        "id": "37ce8f75"
      },
      "source": [
        "we have to replace LF and low fat with Low Fat, reg with Regular to make categories consistent"
      ]
    },
    {
      "cell_type": "code",
      "execution_count": null,
      "id": "a27974ed",
      "metadata": {
        "id": "a27974ed"
      },
      "outputs": [],
      "source": [
        "bigmart[\"Item_Fat_Content\"]=np.where(bigmart[\"Item_Fat_Content\"].isin([\"LF\",\"low fat\"]),\"Low Fat\",\n",
        "                                    np.where(bigmart[\"Item_Fat_Content\"].isin([\"reg\"]),\"Regular\",bigmart[\"Item_Fat_Content\"]))"
      ]
    },
    {
      "cell_type": "code",
      "execution_count": null,
      "id": "717e3dcd",
      "metadata": {
        "id": "717e3dcd",
        "outputId": "1856a520-c93d-4ab6-ed38-2c08302f498d"
      },
      "outputs": [
        {
          "data": {
            "text/plain": [
              "Low Fat    5517\n",
              "Regular    3006\n",
              "Name: Item_Fat_Content, dtype: int64"
            ]
          },
          "execution_count": 17,
          "metadata": {},
          "output_type": "execute_result"
        }
      ],
      "source": [
        "bigmart[\"Item_Fat_Content\"].value_counts()"
      ]
    },
    {
      "cell_type": "markdown",
      "id": "3e0bd9c8",
      "metadata": {
        "id": "3e0bd9c8"
      },
      "source": [
        "## Multipl Linear Regression"
      ]
    },
    {
      "cell_type": "markdown",
      "id": "5fac3492",
      "metadata": {
        "id": "5fac3492"
      },
      "source": [
        "### LABEL ENCODING"
      ]
    },
    {
      "cell_type": "markdown",
      "id": "0cfa969b",
      "metadata": {
        "id": "0cfa969b"
      },
      "source": [
        "read and write about this technique"
      ]
    },
    {
      "cell_type": "code",
      "execution_count": null,
      "id": "e35d0a0d",
      "metadata": {
        "id": "e35d0a0d",
        "outputId": "ea2ba6d8-2824-4719-c1c8-6c68ac34f72f"
      },
      "outputs": [
        {
          "data": {
            "text/plain": [
              "Fruits and Vegetables    1232\n",
              "Snack Foods              1200\n",
              "Household                 910\n",
              "Frozen Foods              856\n",
              "Dairy                     682\n",
              "Canned                    649\n",
              "Baking Goods              648\n",
              "Health and Hygiene        520\n",
              "Soft Drinks               445\n",
              "Meat                      425\n",
              "Breads                    251\n",
              "Hard Drinks               214\n",
              "Others                    169\n",
              "Starchy Foods             148\n",
              "Breakfast                 110\n",
              "Seafood                    64\n",
              "Name: Item_Type, dtype: int64"
            ]
          },
          "execution_count": 18,
          "metadata": {},
          "output_type": "execute_result"
        }
      ],
      "source": [
        "bigmart[\"Item_Type\"].value_counts()"
      ]
    },
    {
      "cell_type": "markdown",
      "id": "0f18846c",
      "metadata": {
        "id": "0f18846c"
      },
      "source": [
        "We will club Itemtype having low freqencies in others categories to reduce complexity after encoding"
      ]
    },
    {
      "cell_type": "code",
      "execution_count": null,
      "id": "79d693c9",
      "metadata": {
        "id": "79d693c9",
        "outputId": "8db6d03d-2d5f-4296-ecb2-f2479e4aa624"
      },
      "outputs": [
        {
          "data": {
            "text/plain": [
              "Others           0.019829\n",
              "Starchy Foods    0.017365\n",
              "Breakfast        0.012906\n",
              "Seafood          0.007509\n",
              "Name: Item_Type, dtype: float64"
            ]
          },
          "execution_count": 19,
          "metadata": {},
          "output_type": "execute_result"
        }
      ],
      "source": [
        "Item_type_freq = (bigmart['Item_Type'].value_counts())/bigmart.shape[0]\n",
        "bottom_decile = Item_type_freq.quantile(q=0.20)\n",
        "less_freq_type=Item_type_freq[Item_type_freq<=bottom_decile]\n",
        "less_freq_type"
      ]
    },
    {
      "cell_type": "code",
      "execution_count": null,
      "id": "5a3e494d",
      "metadata": {
        "id": "5a3e494d"
      },
      "outputs": [],
      "source": [
        "bigmart[\"Item_Type\"]=np.where(bigmart[\"Item_Type\"].isin(less_freq_type.index.tolist()),\"Others\",bigmart[\"Item_Type\"])"
      ]
    },
    {
      "cell_type": "code",
      "execution_count": null,
      "id": "fc575462",
      "metadata": {
        "id": "fc575462"
      },
      "outputs": [],
      "source": [
        "#concating Item_identifier and Outlet_identifier in one columns,just to create primary key and reduce number of columns\n",
        "bigmart[\"Item_Outlet_No\"]=bigmart[\"Item_Identifier\"]+\"_\"+bigmart[\"Outlet_Identifier\"]\n",
        "final_data_model=bigmart.drop([\"Item_Identifier\",\"Outlet_Identifier\"],axis=1)"
      ]
    },
    {
      "cell_type": "code",
      "execution_count": null,
      "id": "1ccc7584",
      "metadata": {
        "id": "1ccc7584"
      },
      "outputs": [],
      "source": [
        "# one_hot_encoded_training_predictors = pd.get_dummies(final_data_model)\n",
        "final_data_model['Item_Type'] = pd.factorize(final_data_model['Item_Type'])[0]\n",
        "final_data_model['Outlet_Size'] = pd.factorize(final_data_model['Outlet_Size'])[0]\n",
        "final_data_model['Outlet_Location_Type'] = pd.factorize(final_data_model['Outlet_Location_Type'])[0]\n",
        "final_data_model['Outlet_Type'] = pd.factorize(final_data_model['Outlet_Type'])[0]\n",
        "final_data_model['Item_Fat_Content'] = pd.factorize(final_data_model['Item_Fat_Content'])[0]\n",
        "final_data_model['Outlet_Establishment_Year'] = pd.factorize(final_data_model['Outlet_Establishment_Year'])[0]"
      ]
    },
    {
      "cell_type": "markdown",
      "id": "4e6075dc",
      "metadata": {
        "id": "4e6075dc"
      },
      "source": [
        "#### DATA SCALING"
      ]
    },
    {
      "cell_type": "code",
      "execution_count": null,
      "id": "df78a23c",
      "metadata": {
        "id": "df78a23c"
      },
      "outputs": [],
      "source": [
        "from sklearn.preprocessing import MinMaxScaler\n",
        "from sklearn.preprocessing import StandardScaler\n",
        "scaler = MinMaxScaler()\n",
        "# scaler = StandardScaler()\n",
        "cols_to_scale = ['Item_Weight','Item_MRP']\n",
        "df_scaled = pd.DataFrame(scaler.fit_transform(final_data_model[cols_to_scale]), columns=cols_to_scale)\n",
        "final_data_model[cols_to_scale] = df_scaled\n"
      ]
    },
    {
      "cell_type": "code",
      "execution_count": null,
      "id": "46f714e6",
      "metadata": {
        "id": "46f714e6"
      },
      "outputs": [],
      "source": [
        "final_data_model=final_data_model.set_index('Item_Outlet_No')"
      ]
    },
    {
      "cell_type": "code",
      "execution_count": null,
      "id": "7e8f70c3",
      "metadata": {
        "id": "7e8f70c3",
        "outputId": "1caa9b8d-a334-4383-86f2-fcbca467a3a1"
      },
      "outputs": [
        {
          "data": {
            "text/html": [
              "<div>\n",
              "<style scoped>\n",
              "    .dataframe tbody tr th:only-of-type {\n",
              "        vertical-align: middle;\n",
              "    }\n",
              "\n",
              "    .dataframe tbody tr th {\n",
              "        vertical-align: top;\n",
              "    }\n",
              "\n",
              "    .dataframe thead th {\n",
              "        text-align: right;\n",
              "    }\n",
              "</style>\n",
              "<table border=\"1\" class=\"dataframe\">\n",
              "  <thead>\n",
              "    <tr style=\"text-align: right;\">\n",
              "      <th></th>\n",
              "      <th>Item_Weight</th>\n",
              "      <th>Item_Fat_Content</th>\n",
              "      <th>Item_Visibility</th>\n",
              "      <th>Item_Type</th>\n",
              "      <th>Item_MRP</th>\n",
              "      <th>Outlet_Establishment_Year</th>\n",
              "      <th>Outlet_Size</th>\n",
              "      <th>Outlet_Location_Type</th>\n",
              "      <th>Outlet_Type</th>\n",
              "      <th>Item_Outlet_Sales</th>\n",
              "    </tr>\n",
              "    <tr>\n",
              "      <th>Item_Outlet_No</th>\n",
              "      <th></th>\n",
              "      <th></th>\n",
              "      <th></th>\n",
              "      <th></th>\n",
              "      <th></th>\n",
              "      <th></th>\n",
              "      <th></th>\n",
              "      <th></th>\n",
              "      <th></th>\n",
              "      <th></th>\n",
              "    </tr>\n",
              "  </thead>\n",
              "  <tbody>\n",
              "    <tr>\n",
              "      <th>FDA15_OUT049</th>\n",
              "      <td>0.282525</td>\n",
              "      <td>0</td>\n",
              "      <td>-4.132215</td>\n",
              "      <td>0</td>\n",
              "      <td>0.927507</td>\n",
              "      <td>0</td>\n",
              "      <td>0</td>\n",
              "      <td>0</td>\n",
              "      <td>0</td>\n",
              "      <td>8.225540</td>\n",
              "    </tr>\n",
              "    <tr>\n",
              "      <th>DRC01_OUT018</th>\n",
              "      <td>0.081274</td>\n",
              "      <td>1</td>\n",
              "      <td>-3.948780</td>\n",
              "      <td>1</td>\n",
              "      <td>0.072068</td>\n",
              "      <td>1</td>\n",
              "      <td>0</td>\n",
              "      <td>1</td>\n",
              "      <td>1</td>\n",
              "      <td>6.094524</td>\n",
              "    </tr>\n",
              "    <tr>\n",
              "      <th>FDN15_OUT049</th>\n",
              "      <td>0.770765</td>\n",
              "      <td>0</td>\n",
              "      <td>-4.088756</td>\n",
              "      <td>2</td>\n",
              "      <td>0.468288</td>\n",
              "      <td>0</td>\n",
              "      <td>0</td>\n",
              "      <td>0</td>\n",
              "      <td>0</td>\n",
              "      <td>7.648392</td>\n",
              "    </tr>\n",
              "    <tr>\n",
              "      <th>FDX07_OUT010</th>\n",
              "      <td>0.871986</td>\n",
              "      <td>1</td>\n",
              "      <td>-5.493391</td>\n",
              "      <td>3</td>\n",
              "      <td>0.640093</td>\n",
              "      <td>2</td>\n",
              "      <td>1</td>\n",
              "      <td>1</td>\n",
              "      <td>2</td>\n",
              "      <td>6.596300</td>\n",
              "    </tr>\n",
              "    <tr>\n",
              "      <th>NCD19_OUT013</th>\n",
              "      <td>0.260494</td>\n",
              "      <td>0</td>\n",
              "      <td>-5.493391</td>\n",
              "      <td>4</td>\n",
              "      <td>0.095805</td>\n",
              "      <td>3</td>\n",
              "      <td>2</td>\n",
              "      <td>1</td>\n",
              "      <td>0</td>\n",
              "      <td>6.902446</td>\n",
              "    </tr>\n",
              "    <tr>\n",
              "      <th>...</th>\n",
              "      <td>...</td>\n",
              "      <td>...</td>\n",
              "      <td>...</td>\n",
              "      <td>...</td>\n",
              "      <td>...</td>\n",
              "      <td>...</td>\n",
              "      <td>...</td>\n",
              "      <td>...</td>\n",
              "      <td>...</td>\n",
              "      <td>...</td>\n",
              "    </tr>\n",
              "    <tr>\n",
              "      <th>FDF22_OUT013</th>\n",
              "      <td>0.137541</td>\n",
              "      <td>0</td>\n",
              "      <td>-2.868511</td>\n",
              "      <td>6</td>\n",
              "      <td>0.777729</td>\n",
              "      <td>3</td>\n",
              "      <td>2</td>\n",
              "      <td>1</td>\n",
              "      <td>0</td>\n",
              "      <td>7.929625</td>\n",
              "    </tr>\n",
              "    <tr>\n",
              "      <th>FDS36_OUT045</th>\n",
              "      <td>0.227746</td>\n",
              "      <td>1</td>\n",
              "      <td>-3.057982</td>\n",
              "      <td>5</td>\n",
              "      <td>0.326263</td>\n",
              "      <td>5</td>\n",
              "      <td>1</td>\n",
              "      <td>2</td>\n",
              "      <td>0</td>\n",
              "      <td>6.308617</td>\n",
              "    </tr>\n",
              "    <tr>\n",
              "      <th>NCJ29_OUT035</th>\n",
              "      <td>0.359929</td>\n",
              "      <td>0</td>\n",
              "      <td>-3.347099</td>\n",
              "      <td>9</td>\n",
              "      <td>0.228492</td>\n",
              "      <td>8</td>\n",
              "      <td>1</td>\n",
              "      <td>2</td>\n",
              "      <td>0</td>\n",
              "      <td>7.084322</td>\n",
              "    </tr>\n",
              "    <tr>\n",
              "      <th>FDN46_OUT018</th>\n",
              "      <td>0.158083</td>\n",
              "      <td>1</td>\n",
              "      <td>-1.929501</td>\n",
              "      <td>6</td>\n",
              "      <td>0.304939</td>\n",
              "      <td>1</td>\n",
              "      <td>0</td>\n",
              "      <td>1</td>\n",
              "      <td>1</td>\n",
              "      <td>7.520558</td>\n",
              "    </tr>\n",
              "    <tr>\n",
              "      <th>DRG01_OUT046</th>\n",
              "      <td>0.610003</td>\n",
              "      <td>0</td>\n",
              "      <td>-3.103801</td>\n",
              "      <td>1</td>\n",
              "      <td>0.187510</td>\n",
              "      <td>7</td>\n",
              "      <td>1</td>\n",
              "      <td>0</td>\n",
              "      <td>0</td>\n",
              "      <td>6.640751</td>\n",
              "    </tr>\n",
              "  </tbody>\n",
              "</table>\n",
              "<p>8523 rows × 10 columns</p>\n",
              "</div>"
            ],
            "text/plain": [
              "                Item_Weight  Item_Fat_Content  Item_Visibility  Item_Type  \\\n",
              "Item_Outlet_No                                                              \n",
              "FDA15_OUT049       0.282525                 0        -4.132215          0   \n",
              "DRC01_OUT018       0.081274                 1        -3.948780          1   \n",
              "FDN15_OUT049       0.770765                 0        -4.088756          2   \n",
              "FDX07_OUT010       0.871986                 1        -5.493391          3   \n",
              "NCD19_OUT013       0.260494                 0        -5.493391          4   \n",
              "...                     ...               ...              ...        ...   \n",
              "FDF22_OUT013       0.137541                 0        -2.868511          6   \n",
              "FDS36_OUT045       0.227746                 1        -3.057982          5   \n",
              "NCJ29_OUT035       0.359929                 0        -3.347099          9   \n",
              "FDN46_OUT018       0.158083                 1        -1.929501          6   \n",
              "DRG01_OUT046       0.610003                 0        -3.103801          1   \n",
              "\n",
              "                Item_MRP  Outlet_Establishment_Year  Outlet_Size  \\\n",
              "Item_Outlet_No                                                     \n",
              "FDA15_OUT049    0.927507                          0            0   \n",
              "DRC01_OUT018    0.072068                          1            0   \n",
              "FDN15_OUT049    0.468288                          0            0   \n",
              "FDX07_OUT010    0.640093                          2            1   \n",
              "NCD19_OUT013    0.095805                          3            2   \n",
              "...                  ...                        ...          ...   \n",
              "FDF22_OUT013    0.777729                          3            2   \n",
              "FDS36_OUT045    0.326263                          5            1   \n",
              "NCJ29_OUT035    0.228492                          8            1   \n",
              "FDN46_OUT018    0.304939                          1            0   \n",
              "DRG01_OUT046    0.187510                          7            1   \n",
              "\n",
              "                Outlet_Location_Type  Outlet_Type  Item_Outlet_Sales  \n",
              "Item_Outlet_No                                                        \n",
              "FDA15_OUT049                       0            0           8.225540  \n",
              "DRC01_OUT018                       1            1           6.094524  \n",
              "FDN15_OUT049                       0            0           7.648392  \n",
              "FDX07_OUT010                       1            2           6.596300  \n",
              "NCD19_OUT013                       1            0           6.902446  \n",
              "...                              ...          ...                ...  \n",
              "FDF22_OUT013                       1            0           7.929625  \n",
              "FDS36_OUT045                       2            0           6.308617  \n",
              "NCJ29_OUT035                       2            0           7.084322  \n",
              "FDN46_OUT018                       1            1           7.520558  \n",
              "DRG01_OUT046                       0            0           6.640751  \n",
              "\n",
              "[8523 rows x 10 columns]"
            ]
          },
          "execution_count": 25,
          "metadata": {},
          "output_type": "execute_result"
        }
      ],
      "source": [
        "final_data_model"
      ]
    },
    {
      "cell_type": "markdown",
      "id": "861544a9",
      "metadata": {
        "id": "861544a9"
      },
      "source": [
        "### Train Test Split"
      ]
    },
    {
      "cell_type": "code",
      "execution_count": null,
      "id": "847facc8",
      "metadata": {
        "id": "847facc8"
      },
      "outputs": [],
      "source": [
        "indep_var = final_data_model.drop([\"Item_Outlet_Sales\"],axis=1)\n",
        "target_var = final_data_model.Item_Outlet_Sales"
      ]
    },
    {
      "cell_type": "code",
      "execution_count": null,
      "id": "9168fb06",
      "metadata": {
        "id": "9168fb06"
      },
      "outputs": [],
      "source": [
        "from sklearn.model_selection import train_test_split\n",
        "indep_var_train, indep_var_test, target_var_train, target_var_test = train_test_split(indep_var, target_var,random_state = 99,test_size=0.25)"
      ]
    },
    {
      "cell_type": "code",
      "execution_count": null,
      "id": "59d573c2",
      "metadata": {
        "id": "59d573c2",
        "outputId": "498febaf-1282-4db1-c37c-f2c12d9d70cd"
      },
      "outputs": [
        {
          "data": {
            "text/html": [
              "<div>\n",
              "<style scoped>\n",
              "    .dataframe tbody tr th:only-of-type {\n",
              "        vertical-align: middle;\n",
              "    }\n",
              "\n",
              "    .dataframe tbody tr th {\n",
              "        vertical-align: top;\n",
              "    }\n",
              "\n",
              "    .dataframe thead th {\n",
              "        text-align: right;\n",
              "    }\n",
              "</style>\n",
              "<table border=\"1\" class=\"dataframe\">\n",
              "  <thead>\n",
              "    <tr style=\"text-align: right;\">\n",
              "      <th></th>\n",
              "      <th>Item_Weight</th>\n",
              "      <th>Item_Fat_Content</th>\n",
              "      <th>Item_Visibility</th>\n",
              "      <th>Item_Type</th>\n",
              "      <th>Item_MRP</th>\n",
              "      <th>Outlet_Establishment_Year</th>\n",
              "      <th>Outlet_Size</th>\n",
              "      <th>Outlet_Location_Type</th>\n",
              "      <th>Outlet_Type</th>\n",
              "    </tr>\n",
              "    <tr>\n",
              "      <th>Item_Outlet_No</th>\n",
              "      <th></th>\n",
              "      <th></th>\n",
              "      <th></th>\n",
              "      <th></th>\n",
              "      <th></th>\n",
              "      <th></th>\n",
              "      <th></th>\n",
              "      <th></th>\n",
              "      <th></th>\n",
              "    </tr>\n",
              "  </thead>\n",
              "  <tbody>\n",
              "    <tr>\n",
              "      <th>FDV40_OUT013</th>\n",
              "      <td>0.761834</td>\n",
              "      <td>0</td>\n",
              "      <td>-4.221299</td>\n",
              "      <td>7</td>\n",
              "      <td>0.179601</td>\n",
              "      <td>3</td>\n",
              "      <td>2</td>\n",
              "      <td>1</td>\n",
              "      <td>0</td>\n",
              "    </tr>\n",
              "    <tr>\n",
              "      <th>FDH47_OUT046</th>\n",
              "      <td>0.532599</td>\n",
              "      <td>1</td>\n",
              "      <td>-2.049369</td>\n",
              "      <td>8</td>\n",
              "      <td>0.276389</td>\n",
              "      <td>7</td>\n",
              "      <td>1</td>\n",
              "      <td>0</td>\n",
              "      <td>0</td>\n",
              "    </tr>\n",
              "    <tr>\n",
              "      <th>NCE42_OUT027</th>\n",
              "      <td>0.985115</td>\n",
              "      <td>0</td>\n",
              "      <td>-4.551539</td>\n",
              "      <td>4</td>\n",
              "      <td>0.864632</td>\n",
              "      <td>4</td>\n",
              "      <td>0</td>\n",
              "      <td>1</td>\n",
              "      <td>3</td>\n",
              "    </tr>\n",
              "    <tr>\n",
              "      <th>FDG45_OUT017</th>\n",
              "      <td>0.211075</td>\n",
              "      <td>0</td>\n",
              "      <td>-2.049803</td>\n",
              "      <td>3</td>\n",
              "      <td>0.774624</td>\n",
              "      <td>6</td>\n",
              "      <td>1</td>\n",
              "      <td>2</td>\n",
              "      <td>0</td>\n",
              "    </tr>\n",
              "    <tr>\n",
              "      <th>NCF42_OUT019</th>\n",
              "      <td>0.272403</td>\n",
              "      <td>0</td>\n",
              "      <td>-1.227357</td>\n",
              "      <td>4</td>\n",
              "      <td>0.618770</td>\n",
              "      <td>4</td>\n",
              "      <td>1</td>\n",
              "      <td>0</td>\n",
              "      <td>2</td>\n",
              "    </tr>\n",
              "    <tr>\n",
              "      <th>...</th>\n",
              "      <td>...</td>\n",
              "      <td>...</td>\n",
              "      <td>...</td>\n",
              "      <td>...</td>\n",
              "      <td>...</td>\n",
              "      <td>...</td>\n",
              "      <td>...</td>\n",
              "      <td>...</td>\n",
              "      <td>...</td>\n",
              "    </tr>\n",
              "    <tr>\n",
              "      <th>FDF26_OUT018</th>\n",
              "      <td>0.135159</td>\n",
              "      <td>1</td>\n",
              "      <td>-3.061344</td>\n",
              "      <td>11</td>\n",
              "      <td>0.525937</td>\n",
              "      <td>1</td>\n",
              "      <td>0</td>\n",
              "      <td>1</td>\n",
              "      <td>1</td>\n",
              "    </tr>\n",
              "    <tr>\n",
              "      <th>NCS42_OUT035</th>\n",
              "      <td>0.240845</td>\n",
              "      <td>0</td>\n",
              "      <td>-2.667820</td>\n",
              "      <td>4</td>\n",
              "      <td>0.254351</td>\n",
              "      <td>8</td>\n",
              "      <td>1</td>\n",
              "      <td>2</td>\n",
              "      <td>0</td>\n",
              "    </tr>\n",
              "    <tr>\n",
              "      <th>FDX37_OUT013</th>\n",
              "      <td>0.693361</td>\n",
              "      <td>0</td>\n",
              "      <td>-5.493391</td>\n",
              "      <td>11</td>\n",
              "      <td>0.294060</td>\n",
              "      <td>3</td>\n",
              "      <td>2</td>\n",
              "      <td>1</td>\n",
              "      <td>0</td>\n",
              "    </tr>\n",
              "    <tr>\n",
              "      <th>FDW48_OUT049</th>\n",
              "      <td>0.800536</td>\n",
              "      <td>0</td>\n",
              "      <td>-4.761344</td>\n",
              "      <td>5</td>\n",
              "      <td>0.204041</td>\n",
              "      <td>0</td>\n",
              "      <td>0</td>\n",
              "      <td>0</td>\n",
              "      <td>0</td>\n",
              "    </tr>\n",
              "    <tr>\n",
              "      <th>FDF04_OUT018</th>\n",
              "      <td>0.770765</td>\n",
              "      <td>0</td>\n",
              "      <td>-4.290900</td>\n",
              "      <td>7</td>\n",
              "      <td>0.969618</td>\n",
              "      <td>1</td>\n",
              "      <td>0</td>\n",
              "      <td>1</td>\n",
              "      <td>1</td>\n",
              "    </tr>\n",
              "  </tbody>\n",
              "</table>\n",
              "<p>6392 rows × 9 columns</p>\n",
              "</div>"
            ],
            "text/plain": [
              "                Item_Weight  Item_Fat_Content  Item_Visibility  Item_Type  \\\n",
              "Item_Outlet_No                                                              \n",
              "FDV40_OUT013       0.761834                 0        -4.221299          7   \n",
              "FDH47_OUT046       0.532599                 1        -2.049369          8   \n",
              "NCE42_OUT027       0.985115                 0        -4.551539          4   \n",
              "FDG45_OUT017       0.211075                 0        -2.049803          3   \n",
              "NCF42_OUT019       0.272403                 0        -1.227357          4   \n",
              "...                     ...               ...              ...        ...   \n",
              "FDF26_OUT018       0.135159                 1        -3.061344         11   \n",
              "NCS42_OUT035       0.240845                 0        -2.667820          4   \n",
              "FDX37_OUT013       0.693361                 0        -5.493391         11   \n",
              "FDW48_OUT049       0.800536                 0        -4.761344          5   \n",
              "FDF04_OUT018       0.770765                 0        -4.290900          7   \n",
              "\n",
              "                Item_MRP  Outlet_Establishment_Year  Outlet_Size  \\\n",
              "Item_Outlet_No                                                     \n",
              "FDV40_OUT013    0.179601                          3            2   \n",
              "FDH47_OUT046    0.276389                          7            1   \n",
              "NCE42_OUT027    0.864632                          4            0   \n",
              "FDG45_OUT017    0.774624                          6            1   \n",
              "NCF42_OUT019    0.618770                          4            1   \n",
              "...                  ...                        ...          ...   \n",
              "FDF26_OUT018    0.525937                          1            0   \n",
              "NCS42_OUT035    0.254351                          8            1   \n",
              "FDX37_OUT013    0.294060                          3            2   \n",
              "FDW48_OUT049    0.204041                          0            0   \n",
              "FDF04_OUT018    0.969618                          1            0   \n",
              "\n",
              "                Outlet_Location_Type  Outlet_Type  \n",
              "Item_Outlet_No                                     \n",
              "FDV40_OUT013                       1            0  \n",
              "FDH47_OUT046                       0            0  \n",
              "NCE42_OUT027                       1            3  \n",
              "FDG45_OUT017                       2            0  \n",
              "NCF42_OUT019                       0            2  \n",
              "...                              ...          ...  \n",
              "FDF26_OUT018                       1            1  \n",
              "NCS42_OUT035                       2            0  \n",
              "FDX37_OUT013                       1            0  \n",
              "FDW48_OUT049                       0            0  \n",
              "FDF04_OUT018                       1            1  \n",
              "\n",
              "[6392 rows x 9 columns]"
            ]
          },
          "execution_count": 28,
          "metadata": {},
          "output_type": "execute_result"
        }
      ],
      "source": [
        "indep_var_train"
      ]
    },
    {
      "cell_type": "code",
      "execution_count": null,
      "id": "95e76364",
      "metadata": {
        "id": "95e76364",
        "outputId": "1cab38eb-32b5-4cb4-fc5b-16ee1030b2fd"
      },
      "outputs": [
        {
          "data": {
            "text/html": [
              "<table class=\"simpletable\">\n",
              "<caption>OLS Regression Results</caption>\n",
              "<tr>\n",
              "  <th>Dep. Variable:</th>    <td>Item_Outlet_Sales</td> <th>  R-squared (uncentered):</th>      <td>   0.965</td> \n",
              "</tr>\n",
              "<tr>\n",
              "  <th>Model:</th>                   <td>OLS</td>        <th>  Adj. R-squared (uncentered):</th> <td>   0.965</td> \n",
              "</tr>\n",
              "<tr>\n",
              "  <th>Method:</th>             <td>Least Squares</td>   <th>  F-statistic:       </th>          <td>1.955e+04</td>\n",
              "</tr>\n",
              "<tr>\n",
              "  <th>Date:</th>             <td>Mon, 25 Sep 2023</td>  <th>  Prob (F-statistic):</th>           <td>  0.00</td>  \n",
              "</tr>\n",
              "<tr>\n",
              "  <th>Time:</th>                 <td>01:03:48</td>      <th>  Log-Likelihood:    </th>          <td> -11179.</td> \n",
              "</tr>\n",
              "<tr>\n",
              "  <th>No. Observations:</th>      <td>  6392</td>       <th>  AIC:               </th>          <td>2.238e+04</td>\n",
              "</tr>\n",
              "<tr>\n",
              "  <th>Df Residuals:</th>          <td>  6383</td>       <th>  BIC:               </th>          <td>2.244e+04</td>\n",
              "</tr>\n",
              "<tr>\n",
              "  <th>Df Model:</th>              <td>     9</td>       <th>                     </th>              <td> </td>    \n",
              "</tr>\n",
              "<tr>\n",
              "  <th>Covariance Type:</th>      <td>nonrobust</td>     <th>                     </th>              <td> </td>    \n",
              "</tr>\n",
              "</table>\n",
              "<table class=\"simpletable\">\n",
              "<tr>\n",
              "              <td></td>                 <th>coef</th>     <th>std err</th>      <th>t</th>      <th>P>|t|</th>  <th>[0.025</th>    <th>0.975]</th>  \n",
              "</tr>\n",
              "<tr>\n",
              "  <th>Item_Weight</th>               <td>    1.5738</td> <td>    0.059</td> <td>   26.671</td> <td> 0.000</td> <td>    1.458</td> <td>    1.690</td>\n",
              "</tr>\n",
              "<tr>\n",
              "  <th>Item_Fat_Content</th>          <td>    0.5009</td> <td>    0.036</td> <td>   13.972</td> <td> 0.000</td> <td>    0.431</td> <td>    0.571</td>\n",
              "</tr>\n",
              "<tr>\n",
              "  <th>Item_Visibility</th>           <td>   -0.8594</td> <td>    0.014</td> <td>  -61.866</td> <td> 0.000</td> <td>   -0.887</td> <td>   -0.832</td>\n",
              "</tr>\n",
              "<tr>\n",
              "  <th>Item_Type</th>                 <td>    0.1308</td> <td>    0.005</td> <td>   25.938</td> <td> 0.000</td> <td>    0.121</td> <td>    0.141</td>\n",
              "</tr>\n",
              "<tr>\n",
              "  <th>Item_MRP</th>                  <td>    3.2334</td> <td>    0.062</td> <td>   52.061</td> <td> 0.000</td> <td>    3.112</td> <td>    3.355</td>\n",
              "</tr>\n",
              "<tr>\n",
              "  <th>Outlet_Establishment_Year</th> <td>    0.1485</td> <td>    0.008</td> <td>   18.231</td> <td> 0.000</td> <td>    0.133</td> <td>    0.164</td>\n",
              "</tr>\n",
              "<tr>\n",
              "  <th>Outlet_Size</th>               <td>    0.2094</td> <td>    0.032</td> <td>    6.444</td> <td> 0.000</td> <td>    0.146</td> <td>    0.273</td>\n",
              "</tr>\n",
              "<tr>\n",
              "  <th>Outlet_Location_Type</th>      <td>    0.3392</td> <td>    0.025</td> <td>   13.686</td> <td> 0.000</td> <td>    0.291</td> <td>    0.388</td>\n",
              "</tr>\n",
              "<tr>\n",
              "  <th>Outlet_Type</th>               <td>    0.3043</td> <td>    0.017</td> <td>   17.582</td> <td> 0.000</td> <td>    0.270</td> <td>    0.338</td>\n",
              "</tr>\n",
              "</table>\n",
              "<table class=\"simpletable\">\n",
              "<tr>\n",
              "  <th>Omnibus:</th>       <td>29.100</td> <th>  Durbin-Watson:     </th> <td>   1.965</td>\n",
              "</tr>\n",
              "<tr>\n",
              "  <th>Prob(Omnibus):</th> <td> 0.000</td> <th>  Jarque-Bera (JB):  </th> <td>  29.399</td>\n",
              "</tr>\n",
              "<tr>\n",
              "  <th>Skew:</th>          <td>-0.161</td> <th>  Prob(JB):          </th> <td>4.13e-07</td>\n",
              "</tr>\n",
              "<tr>\n",
              "  <th>Kurtosis:</th>      <td> 3.083</td> <th>  Cond. No.          </th> <td>    30.6</td>\n",
              "</tr>\n",
              "</table><br/><br/>Notes:<br/>[1] R² is computed without centering (uncentered) since the model does not contain a constant.<br/>[2] Standard Errors assume that the covariance matrix of the errors is correctly specified."
            ],
            "text/plain": [
              "<class 'statsmodels.iolib.summary.Summary'>\n",
              "\"\"\"\n",
              "                                 OLS Regression Results                                \n",
              "=======================================================================================\n",
              "Dep. Variable:      Item_Outlet_Sales   R-squared (uncentered):                   0.965\n",
              "Model:                            OLS   Adj. R-squared (uncentered):              0.965\n",
              "Method:                 Least Squares   F-statistic:                          1.955e+04\n",
              "Date:                Mon, 25 Sep 2023   Prob (F-statistic):                        0.00\n",
              "Time:                        01:03:48   Log-Likelihood:                         -11179.\n",
              "No. Observations:                6392   AIC:                                  2.238e+04\n",
              "Df Residuals:                    6383   BIC:                                  2.244e+04\n",
              "Df Model:                           9                                                  \n",
              "Covariance Type:            nonrobust                                                  \n",
              "=============================================================================================\n",
              "                                coef    std err          t      P>|t|      [0.025      0.975]\n",
              "---------------------------------------------------------------------------------------------\n",
              "Item_Weight                   1.5738      0.059     26.671      0.000       1.458       1.690\n",
              "Item_Fat_Content              0.5009      0.036     13.972      0.000       0.431       0.571\n",
              "Item_Visibility              -0.8594      0.014    -61.866      0.000      -0.887      -0.832\n",
              "Item_Type                     0.1308      0.005     25.938      0.000       0.121       0.141\n",
              "Item_MRP                      3.2334      0.062     52.061      0.000       3.112       3.355\n",
              "Outlet_Establishment_Year     0.1485      0.008     18.231      0.000       0.133       0.164\n",
              "Outlet_Size                   0.2094      0.032      6.444      0.000       0.146       0.273\n",
              "Outlet_Location_Type          0.3392      0.025     13.686      0.000       0.291       0.388\n",
              "Outlet_Type                   0.3043      0.017     17.582      0.000       0.270       0.338\n",
              "==============================================================================\n",
              "Omnibus:                       29.100   Durbin-Watson:                   1.965\n",
              "Prob(Omnibus):                  0.000   Jarque-Bera (JB):               29.399\n",
              "Skew:                          -0.161   Prob(JB):                     4.13e-07\n",
              "Kurtosis:                       3.083   Cond. No.                         30.6\n",
              "==============================================================================\n",
              "\n",
              "Notes:\n",
              "[1] R² is computed without centering (uncentered) since the model does not contain a constant.\n",
              "[2] Standard Errors assume that the covariance matrix of the errors is correctly specified.\n",
              "\"\"\""
            ]
          },
          "execution_count": 29,
          "metadata": {},
          "output_type": "execute_result"
        }
      ],
      "source": [
        "# #Importing Libraries\n",
        "import statsmodels.api as sm\n",
        "from statsmodels.stats.diagnostic import het_white\n",
        "from statsmodels.compat import lzip\n",
        "#Fit the model\n",
        "model = sm.OLS(target_var_train,indep_var_train).fit()\n",
        "model.summary()"
      ]
    },
    {
      "cell_type": "code",
      "execution_count": null,
      "id": "b3370e53",
      "metadata": {
        "id": "b3370e53",
        "outputId": "43ccdfba-dad1-45a8-8299-967270ff9b61"
      },
      "outputs": [
        {
          "data": {
            "text/plain": [
              "1.8925858481286595"
            ]
          },
          "execution_count": 30,
          "metadata": {},
          "output_type": "execute_result"
        }
      ],
      "source": [
        "from sklearn.metrics import mean_squared_error\n",
        "MSE = mean_squared_error(target_var_test,model.predict(indep_var_test))\n",
        "RMSE = np.sqrt(MSE)\n",
        "MSE"
      ]
    },
    {
      "cell_type": "code",
      "execution_count": null,
      "id": "4ca5d491",
      "metadata": {
        "id": "4ca5d491"
      },
      "outputs": [],
      "source": [
        "# print(\"R squared: {}\".format(r2_score(y_true=target_var_train,y_pred=target_pred)))"
      ]
    },
    {
      "cell_type": "code",
      "execution_count": null,
      "id": "9c723403",
      "metadata": {
        "id": "9c723403"
      },
      "outputs": [],
      "source": [
        "# sum((model.predict(indep_var_test)-target_var_test)^2)"
      ]
    },
    {
      "cell_type": "code",
      "execution_count": null,
      "id": "78cad683",
      "metadata": {
        "id": "78cad683",
        "outputId": "01c2fadb-128f-4b58-b3f4-aabb9e6b69e4"
      },
      "outputs": [
        {
          "data": {
            "text/plain": [
              "Item_Outlet_No\n",
              "FDU49_OUT045     8.716871\n",
              "FDJ20_OUT049     5.646951\n",
              "FDF04_OUT035    10.985412\n",
              "NCB19_OUT027     5.356037\n",
              "FDW32_OUT035     7.047183\n",
              "                  ...    \n",
              "FDD39_OUT045     7.590205\n",
              "FDR52_OUT017     8.367107\n",
              "FDA43_OUT013     6.813822\n",
              "NCO42_OUT017     8.637240\n",
              "FDZ44_OUT035     6.763260\n",
              "Length: 2131, dtype: float64"
            ]
          },
          "execution_count": 33,
          "metadata": {},
          "output_type": "execute_result"
        }
      ],
      "source": [
        "model.predict(indep_var_test)"
      ]
    },
    {
      "cell_type": "code",
      "execution_count": null,
      "id": "6dc8f319",
      "metadata": {
        "id": "6dc8f319",
        "outputId": "d5ae2ed5-6a82-483a-f1f2-c996e571c61f"
      },
      "outputs": [
        {
          "data": {
            "text/plain": [
              "Item_Outlet_No\n",
              "FDU49_OUT045    7.679644\n",
              "FDJ20_OUT049    7.121566\n",
              "FDF04_OUT035    7.500150\n",
              "NCB19_OUT027    7.631100\n",
              "FDW32_OUT035    7.343418\n",
              "                  ...   \n",
              "FDD39_OUT045    8.210273\n",
              "FDR52_OUT017    7.044476\n",
              "FDA43_OUT013    7.065166\n",
              "NCO42_OUT017    8.240402\n",
              "FDZ44_OUT035    7.328667\n",
              "Name: Item_Outlet_Sales, Length: 2131, dtype: float64"
            ]
          },
          "execution_count": 34,
          "metadata": {},
          "output_type": "execute_result"
        }
      ],
      "source": [
        "target_var_test"
      ]
    },
    {
      "cell_type": "markdown",
      "id": "248db65c",
      "metadata": {
        "id": "248db65c"
      },
      "source": [
        "### Multicollinearity"
      ]
    },
    {
      "cell_type": "code",
      "execution_count": null,
      "id": "aa191be2",
      "metadata": {
        "id": "aa191be2",
        "outputId": "36a3caab-8db9-4bb7-c56d-332c48c5d9c6"
      },
      "outputs": [
        {
          "name": "stdout",
          "output_type": "stream",
          "text": [
            "                    variable       VIF\n",
            "0                Item_Weight  3.659405\n",
            "1           Item_Fat_Content  1.500996\n",
            "2            Item_Visibility  6.692674\n",
            "3                  Item_Type  3.326956\n",
            "4                   Item_MRP  3.646070\n",
            "5  Outlet_Establishment_Year  5.065588\n",
            "6                Outlet_Size  3.465072\n",
            "7       Outlet_Location_Type  3.438792\n",
            "8                Outlet_Type  1.577832\n"
          ]
        }
      ],
      "source": [
        "from patsy import dmatrices\n",
        "from statsmodels.stats.outliers_influence import variance_inflation_factor\n",
        "\n",
        "\n",
        "#create DataFrame to hold VIF values\n",
        "vif_df = pd.DataFrame()\n",
        "vif_df['variable'] = indep_var_train.columns\n",
        "\n",
        "#calculate VIF for each predictor variable\n",
        "vif_df['VIF'] = [variance_inflation_factor(indep_var_train.values, i) for i in range(indep_var_train.shape[1])]\n",
        "\n",
        "#view VIF for each predictor variable\n",
        "print(vif_df)"
      ]
    },
    {
      "cell_type": "markdown",
      "id": "552d4793",
      "metadata": {
        "id": "552d4793"
      },
      "source": [
        "### Normality Test"
      ]
    },
    {
      "cell_type": "code",
      "execution_count": null,
      "id": "0c62ecf7",
      "metadata": {
        "id": "0c62ecf7"
      },
      "outputs": [],
      "source": [
        "import pylab as py\n",
        "data_points=target_var_test-model.predict(indep_var_test)"
      ]
    },
    {
      "cell_type": "code",
      "execution_count": null,
      "id": "d4ab49c0",
      "metadata": {
        "id": "d4ab49c0",
        "outputId": "c710925f-0eac-4068-ef52-1e6324f7306c"
      },
      "outputs": [
        {
          "data": {
            "image/png": "[encoded data removed]",
            "text/plain": [
              "<Figure size 640x480 with 1 Axes>"
            ]
          },
          "execution_count": 37,
          "metadata": {},
          "output_type": "execute_result"
        },
        {
          "data": {
            "image/png": "[encoded data removed]",
            "text/plain": [
              "<Figure size 640x480 with 1 Axes>"
            ]
          },
          "metadata": {},
          "output_type": "display_data"
        }
      ],
      "source": [
        "sm.qqplot(data_points,line='45')"
      ]
    },
    {
      "cell_type": "markdown",
      "id": "2873cc66",
      "metadata": {
        "id": "2873cc66"
      },
      "source": [
        "### shapiro wilk test\n",
        "\n",
        "- Ho: Sample is from the normal distributions\n",
        "- Ha: Sample is not from the normal distributions."
      ]
    },
    {
      "cell_type": "code",
      "execution_count": null,
      "id": "fac153cb",
      "metadata": {
        "id": "fac153cb",
        "outputId": "87310556-a70d-4a38-9baa-ecdb76ecf292"
      },
      "outputs": [
        {
          "data": {
            "text/plain": [
              "ShapiroResult(statistic=0.9988071918487549, pvalue=0.1511487364768982)"
            ]
          },
          "execution_count": 38,
          "metadata": {},
          "output_type": "execute_result"
        }
      ],
      "source": [
        "from scipy.stats import shapiro\n",
        "shapiro(data_points)"
      ]
    },
    {
      "cell_type": "markdown",
      "id": "860dfa85",
      "metadata": {
        "id": "860dfa85"
      },
      "source": [
        "since p value is greater than 0.05 we fail to reject null hypothesis and conclude that error terms follow normal distribution which satisfy our regression assumption."
      ]
    },
    {
      "cell_type": "code",
      "execution_count": null,
      "id": "242e06bd",
      "metadata": {
        "id": "242e06bd"
      },
      "outputs": [],
      "source": []
    }
  ],
  "metadata": {
    "kernelspec": {
      "display_name": "Python 3 (ipykernel)",
      "language": "python",
      "name": "python3"
    },
    "language_info": {
      "codemirror_mode": {
        "name": "ipython",
        "version": 3
      },
      "file_extension": ".py",
      "mimetype": "text/x-python",
      "name": "python",
      "nbconvert_exporter": "python",
      "pygments_lexer": "ipython3",
      "version": "3.9.13"
    },
    "colab": {
      "provenance": []
    }
  },
  "nbformat": 4,
  "nbformat_minor": 5
}